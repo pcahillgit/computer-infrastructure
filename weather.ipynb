{
 "cells": [
  {
   "cell_type": "markdown",
   "metadata": {},
   "source": [
    "# **Computer Infrastructure Assessment Notebook**\n",
    "\n",
    "This notebook contains my reports for each of the tasks included in the Computer Infrastructure modules assessment."
   ]
  },
  {
   "cell_type": "markdown",
   "metadata": {},
   "source": [
    "***\n",
    "## Task 1: Create Directory Structure\n",
    "\n",
    "In this first task I created two subdirectories (timestamps and weather) within a directory (data).\n",
    "\n",
    "I done this as a command line prompt in GitHub codespaces.\n",
    "\n",
    "mkdir data/weather creates a folder called weather in a folder called data.\n"
   ]
  },
  {
   "cell_type": "markdown",
   "metadata": {},
   "source": [
    "***\n",
    "## Task 2: Timestamps"
   ]
  },
  {
   "cell_type": "markdown",
   "metadata": {},
   "source": [
    "***\n",
    "## Task 3: Formatting Timestamps"
   ]
  },
  {
   "cell_type": "markdown",
   "metadata": {},
   "source": [
    "***\n",
    "## Task 4: Create Timestamped Files"
   ]
  },
  {
   "cell_type": "markdown",
   "metadata": {},
   "source": [
    "***\n",
    "## Task 5: Download Today's Weather Data"
   ]
  },
  {
   "cell_type": "markdown",
   "metadata": {},
   "source": [
    "***\n",
    "## Task 6: Timestamp the Data"
   ]
  },
  {
   "cell_type": "markdown",
   "metadata": {},
   "source": [
    "***\n",
    "## Task 7: Write the Script"
   ]
  }
 ],
 "metadata": {
  "language_info": {
   "name": "python"
  }
 },
 "nbformat": 4,
 "nbformat_minor": 2
}
