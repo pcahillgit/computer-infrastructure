{
 "cells": [
  {
   "cell_type": "markdown",
   "metadata": {},
   "source": [
    "# **Computer Infrastructure Assessment Notebook**\n",
    "\n",
    "This notebook contains my reports for each of the tasks included in the Computer Infrastructure modules assessment."
   ]
  },
  {
   "cell_type": "markdown",
   "metadata": {},
   "source": [
    "***\n",
    "## Task 1: Create Directory Structure\n",
    "\n",
    "In this first task I created two subdirectories (timestamps and weather) within a directory (data) placed at the root (the first point/point at which you couldn't `cd ..` and still be in the directory) of my repository.\n",
    "\n",
    "I did this as a command line prompt in GitHub codespaces (a cloud based development environment).\n",
    "\n",
    "`mkdir` (make directory) is the command that is useful for us here. `mkdir` creates a directory (a folder) within the present working directory.\n",
    "\n",
    "`mkdir data/weather` creates a folder called weather in a folder called data.\n",
    "\n",
    "I used `ls` when in the data directory to check the two new folders were present.\n"
   ]
  },
  {
   "cell_type": "markdown",
   "metadata": {},
   "source": [
    "***\n",
    "## Task 2: Timestamps\n",
    "\n",
    "For the second task, I navigated to the timestamps directory and used the `date` Linux command to display the system date in a text file called now.txt.\n",
    "\n",
    "This was done with the following command: `date >> now.txt`\n",
    "\n",
    "I copied and pasted this command 10 times which saved 10 instances of date to the text file.\n",
    "\n",
    "`>>` appends a file, so each time I ran the command a new line was added.\n",
    "\n",
    "By default, `date` is displayed \"Day-of-week Month Day-of-Month Hour:Minute:Second Timezone Year\" (`Man date` explains this in more detail, as the `man` (manual) does with all of the commands I will mention).\n",
    "\n",
    "In the next task I format the date myself."
   ]
  },
  {
   "cell_type": "markdown",
   "metadata": {},
   "source": [
    "***\n",
    "## Task 3: Formatting Timestamps\n",
    "\n",
    "For the third task I used `date` once again. However, this time I formatted the output to one of my own choosing.\n",
    "\n",
    "The command this time was `date +\"%Y/%m/%d %H:%M:%S\" >> formatted.txt`\n",
    "\n",
    "This saved as Year/Month/Day Hour/Minute/Second: 2024/11/08 17:05:31\n",
    "\n",
    "Again, I used `>>` here to append into a new file, this time to a new text file called formatted.txt."
   ]
  },
  {
   "cell_type": "markdown",
   "metadata": {},
   "source": [
    "***\n",
    "## Task 4: Create Timestamped Files\n",
    "\n",
    "The next task is to create a timestamped file.\n",
    "\n",
    "I did this by using the `touch` command. `touch` changes the timestamps of existing files or creates new files if no file exists with the file name given already.\n",
    "\n",
    "In backticks I used the `date` command again along with my desired format- note this time there is no '/' or ':' as these punctuation marks are not suitable for using in filenames.\n",
    "\n",
    "``` touch `date +%Y%m%d_%H%M%S`.txt ```\n",
    "\n",
    "This created an empty folder with a timestamped date and time."
   ]
  },
  {
   "cell_type": "markdown",
   "metadata": {},
   "source": [
    "***\n",
    "## Task 5: Download Today's Weather Data\n",
    "\n",
    "In task 5 we bring in some live weather data from an API. Here, I was tasked with pulling the latest weather to a new file in the weather folder.\n",
    "\n",
    "To do this I used the `wget` (world wide web get) command to pull from a URL. My command in full was:\n",
    "\n",
    "``` wget -O weather.json https://prodapi.metweb.ie/observations/athenry/today ```\n",
    "\n",
    "`-O` let's me save the file to a name of my own choosing (weather.json)\n",
    "\n",
    "The URL here points to Met Eireann's server and the file path to follow in requesting the latest weather data for Athenry."
   ]
  },
  {
   "cell_type": "markdown",
   "metadata": {},
   "source": [
    "***\n",
    "## Task 6: Timestamp the Data\n",
    "\n",
    "Task 6 required the same output as task 5 but this time the command was to be modified so that the saved file was in YYYYmmdd_HHMMSS format.\n",
    "\n",
    "As we know from task 4 we can create timestamped files using the `date` command along with backticks and our desired format for the date and time.\n",
    "\n",
    "As such, our modified command becomes: ``` wget -O `date +%Y%m%d_%H%M%S`.json https://prodapi.metweb.ie/observations/athenry/today ```\n",
    "\n",
    "This lays the foundation for a script to be created to automate the process of pulling weather data from Met Eireann and saving it as a timestamped file. In task 7 we will do just that."
   ]
  },
  {
   "cell_type": "markdown",
   "metadata": {},
   "source": [
    "***\n",
    "## Task 7: Write the Script\n",
    "\n",
    "In Visual Studio Code, I created a new file named weather.sh at the root of my repository.\n",
    "\n",
    "In this new file I added a shebang `#! /bin/bash` (the shebang is a Linux convention that indicates how the script should be run- in this case I have indicated that the script should run as a command line argument to /bin/bash) and then in the line below pasted in my command from task 6 (with the addition of the data/weather location for new files to be saved).\n",
    "\n",
    "``` #! /bin/bash ```\n",
    "\n",
    "``` wget -O \"data/weather/$(date +%Y%m%d_%H%M%S).json\" https://prodapi.metweb.ie/observations/athenry/today ```\n",
    "\n",
    "To test the script I first had to make it executable with the command `chmod u+x ./weather.sh` (which means change mode; user is allowed to execute weather.sh script). Once this had been done I will be able to read, write and execute (as opposed to just read and write). So, to execute I just run the command *./weather.sh*. I knew it executed correctly as a new timestamped file was added to my weather folder."
   ]
  },
  {
   "cell_type": "markdown",
   "metadata": {},
   "source": [
    "***\n",
    "\n",
    "## Task 9: Pandas"
   ]
  },
  {
   "cell_type": "code",
   "execution_count": 1,
   "metadata": {},
   "outputs": [],
   "source": [
    "#Data Frames\n",
    "import pandas as pd"
   ]
  },
  {
   "cell_type": "markdown",
   "metadata": {},
   "source": []
  },
  {
   "cell_type": "code",
   "execution_count": 2,
   "metadata": {},
   "outputs": [
    {
     "data": {
      "text/html": [
       "<div>\n",
       "<style scoped>\n",
       "    .dataframe tbody tr th:only-of-type {\n",
       "        vertical-align: middle;\n",
       "    }\n",
       "\n",
       "    .dataframe tbody tr th {\n",
       "        vertical-align: top;\n",
       "    }\n",
       "\n",
       "    .dataframe thead th {\n",
       "        text-align: right;\n",
       "    }\n",
       "</style>\n",
       "<table border=\"1\" class=\"dataframe\">\n",
       "  <thead>\n",
       "    <tr style=\"text-align: right;\">\n",
       "      <th></th>\n",
       "      <th>name</th>\n",
       "      <th>temperature</th>\n",
       "      <th>symbol</th>\n",
       "      <th>weatherDescription</th>\n",
       "      <th>text</th>\n",
       "      <th>windSpeed</th>\n",
       "      <th>windGust</th>\n",
       "      <th>cardinalWindDirection</th>\n",
       "      <th>windDirection</th>\n",
       "      <th>humidity</th>\n",
       "      <th>rainfall</th>\n",
       "      <th>pressure</th>\n",
       "      <th>dayName</th>\n",
       "      <th>date</th>\n",
       "      <th>reportTime</th>\n",
       "    </tr>\n",
       "  </thead>\n",
       "  <tbody>\n",
       "    <tr>\n",
       "      <th>0</th>\n",
       "      <td>Athenry</td>\n",
       "      <td>10</td>\n",
       "      <td>04n</td>\n",
       "      <td>Cloudy</td>\n",
       "      <td>\"Cloudy\"</td>\n",
       "      <td>15</td>\n",
       "      <td>-</td>\n",
       "      <td>SW</td>\n",
       "      <td>225</td>\n",
       "      <td>83</td>\n",
       "      <td>0.0</td>\n",
       "      <td>1028</td>\n",
       "      <td>Monday</td>\n",
       "      <td>2024-12-16</td>\n",
       "      <td>00:00</td>\n",
       "    </tr>\n",
       "    <tr>\n",
       "      <th>1</th>\n",
       "      <td>Athenry</td>\n",
       "      <td>10</td>\n",
       "      <td>04n</td>\n",
       "      <td>Cloudy</td>\n",
       "      <td>\"Cloudy\"</td>\n",
       "      <td>15</td>\n",
       "      <td>-</td>\n",
       "      <td>SW</td>\n",
       "      <td>225</td>\n",
       "      <td>81</td>\n",
       "      <td>0.0</td>\n",
       "      <td>1028</td>\n",
       "      <td>Monday</td>\n",
       "      <td>2024-12-16</td>\n",
       "      <td>01:00</td>\n",
       "    </tr>\n",
       "    <tr>\n",
       "      <th>2</th>\n",
       "      <td>Athenry</td>\n",
       "      <td>11</td>\n",
       "      <td>04n</td>\n",
       "      <td>Cloudy</td>\n",
       "      <td>\"Cloudy\"</td>\n",
       "      <td>19</td>\n",
       "      <td>-</td>\n",
       "      <td>SW</td>\n",
       "      <td>225</td>\n",
       "      <td>81</td>\n",
       "      <td>0.0</td>\n",
       "      <td>1028</td>\n",
       "      <td>Monday</td>\n",
       "      <td>2024-12-16</td>\n",
       "      <td>02:00</td>\n",
       "    </tr>\n",
       "    <tr>\n",
       "      <th>3</th>\n",
       "      <td>Athenry</td>\n",
       "      <td>11</td>\n",
       "      <td>04n</td>\n",
       "      <td>Cloudy</td>\n",
       "      <td>\"Cloudy\"</td>\n",
       "      <td>20</td>\n",
       "      <td>-</td>\n",
       "      <td>W</td>\n",
       "      <td>270</td>\n",
       "      <td>80</td>\n",
       "      <td>0.0</td>\n",
       "      <td>1027</td>\n",
       "      <td>Monday</td>\n",
       "      <td>2024-12-16</td>\n",
       "      <td>03:00</td>\n",
       "    </tr>\n",
       "    <tr>\n",
       "      <th>4</th>\n",
       "      <td>Athenry</td>\n",
       "      <td>10</td>\n",
       "      <td>04n</td>\n",
       "      <td>Cloudy</td>\n",
       "      <td>\"Cloudy\"</td>\n",
       "      <td>15</td>\n",
       "      <td>39</td>\n",
       "      <td>SW</td>\n",
       "      <td>225</td>\n",
       "      <td>90</td>\n",
       "      <td>0.0</td>\n",
       "      <td>1027</td>\n",
       "      <td>Monday</td>\n",
       "      <td>2024-12-16</td>\n",
       "      <td>04:00</td>\n",
       "    </tr>\n",
       "  </tbody>\n",
       "</table>\n",
       "</div>"
      ],
      "text/plain": [
       "      name  temperature symbol weatherDescription      text  windSpeed  \\\n",
       "0  Athenry           10    04n             Cloudy  \"Cloudy\"         15   \n",
       "1  Athenry           10    04n             Cloudy  \"Cloudy\"         15   \n",
       "2  Athenry           11    04n             Cloudy  \"Cloudy\"         19   \n",
       "3  Athenry           11    04n             Cloudy  \"Cloudy\"         20   \n",
       "4  Athenry           10    04n             Cloudy  \"Cloudy\"         15   \n",
       "\n",
       "  windGust cardinalWindDirection  windDirection  humidity  rainfall  pressure  \\\n",
       "0        -                    SW            225        83       0.0      1028   \n",
       "1        -                    SW            225        81       0.0      1028   \n",
       "2        -                    SW            225        81       0.0      1028   \n",
       "3        -                     W            270        80       0.0      1027   \n",
       "4       39                    SW            225        90       0.0      1027   \n",
       "\n",
       "  dayName       date reportTime  \n",
       "0  Monday 2024-12-16      00:00  \n",
       "1  Monday 2024-12-16      01:00  \n",
       "2  Monday 2024-12-16      02:00  \n",
       "3  Monday 2024-12-16      03:00  \n",
       "4  Monday 2024-12-16      04:00  "
      ]
     },
     "execution_count": 2,
     "metadata": {},
     "output_type": "execute_result"
    }
   ],
   "source": [
    "df = pd.read_json('data/weather/20241216_142943.json')\n",
    "\n",
    "df.head()"
   ]
  },
  {
   "cell_type": "markdown",
   "metadata": {},
   "source": [
    "***\n",
    "\n",
    "## End\n",
    "\n",
    "***"
   ]
  }
 ],
 "metadata": {
  "kernelspec": {
   "display_name": "base",
   "language": "python",
   "name": "python3"
  },
  "language_info": {
   "codemirror_mode": {
    "name": "ipython",
    "version": 3
   },
   "file_extension": ".py",
   "mimetype": "text/x-python",
   "name": "python",
   "nbconvert_exporter": "python",
   "pygments_lexer": "ipython3",
   "version": "3.12.4"
  }
 },
 "nbformat": 4,
 "nbformat_minor": 2
}
