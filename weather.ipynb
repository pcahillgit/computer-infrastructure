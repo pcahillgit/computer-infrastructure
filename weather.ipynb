{
 "cells": [
  {
   "cell_type": "markdown",
   "metadata": {},
   "source": [
    "# **Computer Infrastructure Assessment Notebook**\n",
    "\n",
    "This notebook contains my reports for each of the tasks included in the Computer Infrastructure modules assessment."
   ]
  },
  {
   "cell_type": "markdown",
   "metadata": {},
   "source": [
    "***\n",
    "## Task 1: Create Directory Structure\n",
    "\n",
    "In this first task I created two subdirectories (timestamps and weather) within a directory (data) placed at the root (the first point/point at which you couldn't *cd ..* and still be in the directory) of my repository.\n",
    "\n",
    "I done this as a command line prompt in GitHub codespaces (a cloud based development environment).\n",
    "\n",
    "*mkdir* (make directory) is the command that is useful for us here. *mkdir* creates a directory (a folder) within the present working directory.\n",
    "\n",
    "*mkdir data/weather* creates a folder called weather in a folder called data.\n",
    "\n",
    "I used *ls* when in the data directory to check the two new folders were present.\n"
   ]
  },
  {
   "cell_type": "markdown",
   "metadata": {},
   "source": [
    "***\n",
    "## Task 2: Timestamps\n",
    "\n",
    "For the second task, I navigated to the timestamps directory and used the *date* Linux command to display the system date in a text file called now.txt.\n",
    "\n",
    "This was done with the following command: *date >> now.txt*\n",
    "\n",
    "I copied and pasted this command 10 times which saved 10 instances of date to the text file.\n",
    "\n",
    "*>>* appends a file, so each time I ran the command a new line got added.\n",
    "\n",
    "By default, *date* is displayed \"Day-of-week Month Day-of-Month Hour:Minute:Second Timezone Year\" (*Man date* explains this in more detail, as the *man* (manual) does with all of the commands I will mention).\n",
    "\n",
    "In the next task I format the date myself."
   ]
  },
  {
   "cell_type": "markdown",
   "metadata": {},
   "source": [
    "***\n",
    "## Task 3: Formatting Timestamps\n",
    "\n",
    "For the third task I used *date* once again. However, this time I formatted the output to one of my own choosing.\n",
    "\n",
    "The command this time was *date +\"%Y/%m/%d %H:%M:%S\" >> formatted.txt\n",
    "\n",
    "This saved as Year/Month/Day Hour/Minute/Second: 2024/11/08 17:05:31\n",
    "\n",
    "Again, I used *>>* here to append into a new file, this time to a new text file called formatted.txt."
   ]
  },
  {
   "cell_type": "markdown",
   "metadata": {},
   "source": [
    "***\n",
    "## Task 4: Create Timestamped Files\n",
    "\n",
    "The next task is to create a timestamped file.\n",
    "\n",
    "I did this by using the *touch* command. *touch* changes the timestamps of existing files or creates new files if no file exists with the file name given already.\n",
    "\n",
    "In backticks I used the *date* command again along with my desired format- note this time there is no '/' or ':' as these punctuation marks are not suitable for using in filenames.\n",
    "\n",
    "*touch `date +%Y%m%d_%H%M%S`.txt*\n",
    "\n",
    "This created an empty folder with a timestamped date and time."
   ]
  },
  {
   "cell_type": "markdown",
   "metadata": {},
   "source": [
    "***\n",
    "## Task 5: Download Today's Weather Data\n",
    "\n",
    "In task 5 we bring in some live weather data from a URL. Here, I was tasked with pulling the latest weather to a new file in the weather folder.\n",
    "\n",
    "To do this I used the *wget* (world wide web get) command to pull from a URL. My command in full was:\n",
    "\n",
    "*wget -O weather.json https://prodapi.metweb.ie/observations/athenry/today*\n",
    "\n",
    "-O let's me save the file to a name of my own choosing (weather.json)\n",
    "\n",
    "The URL here points to Met Eireann's server and the file path to follow in requesting the latest weather data for Athenry."
   ]
  },
  {
   "cell_type": "markdown",
   "metadata": {},
   "source": [
    "***\n",
    "## Task 6: Timestamp the Data"
   ]
  },
  {
   "cell_type": "markdown",
   "metadata": {},
   "source": [
    "***\n",
    "## Task 7: Write the Script"
   ]
  }
 ],
 "metadata": {
  "language_info": {
   "name": "python"
  }
 },
 "nbformat": 4,
 "nbformat_minor": 2
}
