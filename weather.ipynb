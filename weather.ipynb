{
 "cells": [
  {
   "cell_type": "markdown",
   "metadata": {},
   "source": [
    "# **Computer Infrastructure Assessment Notebook**\n",
    "\n",
    "This notebook contains my reports for each of the tasks included in the Computer Infrastructure module.\n",
    "\n",
    "`Code blocks` are used wherever code is referenced."
   ]
  },
  {
   "cell_type": "markdown",
   "metadata": {},
   "source": [
    "***\n",
    "## Task 1: Create Directory Structure\n",
    "\n",
    "In this first task I created two subdirectories (timestamps and weather) within a directory (data) placed at the root (the first point, or the point at which you couldn't `cd ..` and still be in the directory) of my repository.\n",
    "\n",
    "I did this as a command line prompt in GitHub codespaces. Codespaces is a cloud based development environment acessible on GitHub via the repository home page. Codespaces runs Visual Studio code on the users browser. This is where the majority of the work for this assessment was completed.\n",
    "\n",
    "`mkdir` (make directory) is the command that is useful for us here. `mkdir` creates a directory (a folder) within the present working directory.\n",
    "\n",
    "`mkdir data/weather` creates a folder called weather in a folder called data.\n",
    "\n",
    "I used `ls` when in the data directory to check the two new folders were present.\n"
   ]
  },
  {
   "cell_type": "markdown",
   "metadata": {},
   "source": [
    "***\n",
    "## Task 2: Timestamps\n",
    "\n",
    "For the second task, I navigated to the timestamps directory and used the `date` Linux command to display the system date in a text file called now.txt.\n",
    "\n",
    "This was done with the following command: `date >> now.txt`.\n",
    "\n",
    "I copied and pasted this command 10 times which saved 10 instances of date to the text file.\n",
    "\n",
    "`>>` appends a file, so each time I ran the command a new line was added.\n",
    "\n",
    "By default, `date` is displayed \"Day-of-week Month Day-of-Month Hour:Minute:Second Timezone Year\" (`Man date` explains this in more detail, as the `man` (manual) does with all of the commands I will mention).\n",
    "\n",
    "In the next task I format the date myself."
   ]
  },
  {
   "cell_type": "markdown",
   "metadata": {},
   "source": [
    "***\n",
    "## Task 3: Formatting Timestamps\n",
    "\n",
    "For the third task I used `date` once again. However, this time I formatted the output to one of my own choosing.\n",
    "\n",
    "The command this time was `date +\"%Y/%m/%d %H:%M:%S\" >> formatted.txt`.\n",
    "\n",
    "This saved as Year/Month/Day Hour/Minute/Second: 2024/11/08 17:05:31\n",
    "\n",
    "Again, I used `>>` here to append into a new file, this time to a new text file called formatted.txt."
   ]
  },
  {
   "cell_type": "markdown",
   "metadata": {},
   "source": [
    "***\n",
    "## Task 4: Create Timestamped Files\n",
    "\n",
    "The next task is to create a timestamped file.\n",
    "\n",
    "I did this by using the `touch` command. `touch` changes the timestamps of existing files or creates new files if no file already exists with the file name given.\n",
    "\n",
    "In backticks I used the `date` command again along with my desired format- note this time there is no '/' or ':' included as these punctuation marks are not suitable for using in filenames.\n",
    "\n",
    "``` touch `date +%Y%m%d_%H%M%S`.txt ```\n",
    "\n",
    "This created an empty folder with a timestamped date and time."
   ]
  },
  {
   "cell_type": "markdown",
   "metadata": {},
   "source": [
    "***\n",
    "## Task 5: Download Today's Weather Data\n",
    "\n",
    "In task 5 we bring in some live weather data from an API. Here, I was tasked with pulling the latest weather to a new file in the weather folder.\n",
    "\n",
    "To do this I used the `wget` (world wide web get) command to pull from a URL. My command in full was:\n",
    "\n",
    "``` wget -O weather.json https://prodapi.metweb.ie/observations/athenry/today ```\n",
    "\n",
    "`-O` let's me save the file to a name of my own choosing (weather.json)\n",
    "\n",
    "The URL here points to Met Eireann's server and the file path to follow in requesting the latest weather data for Athenry."
   ]
  },
  {
   "cell_type": "markdown",
   "metadata": {},
   "source": [
    "***\n",
    "## Task 6: Timestamp the Data\n",
    "\n",
    "Task 6 required the same output as task 5 but this time the command was to be modified so that the saved file was in YYYYmmdd_HHMMSS format.\n",
    "\n",
    "As we know from task 4 we can create timestamped files using the `date` command along with backticks and our desired format for the date and time.\n",
    "\n",
    "As such, our modified command becomes: ``` wget -O `date +%Y%m%d_%H%M%S`.json https://prodapi.metweb.ie/observations/athenry/today ```.\n",
    "\n",
    "This lays the foundation for a script to be created to automate the process of pulling weather data from Met Eireann and saving it as a timestamped file. In task 7 we will do just that."
   ]
  },
  {
   "cell_type": "markdown",
   "metadata": {},
   "source": [
    "***\n",
    "## Task 7: Write the Script\n",
    "\n",
    "In Visual Studio Code, I created a new file named weather.sh at the root of my repository.\n",
    "\n",
    "In this new file I added a shebang `#! /bin/bash` (the shebang is a Linux convention that indicates how the script should be run- in this case I have indicated that the script should run as a command line argument to /bin/bash). Then, in the line below, I pasted in my command from task 6 (with the addition of the data/weather location for new files to be saved). This read as follows:\n",
    "\n",
    "```\n",
    "#! /bin/bash\n",
    "\n",
    "wget -O \"data/weather/$(date +%Y%m%d_%H%M%S).json\" https://prodapi.metweb.ie/observations/athenry/today \n",
    "```\n",
    "\n",
    "To test the script I first had to make it executable with the command `chmod u+x ./weather.sh` (change mode; user should be allowed to execute weather.sh script). Once this had been done I was able to read, write and execute (as opposed to just read and write). To check that this was set up correctly I navigated to the root of my directory (where the file sits) and used the `ls -l` command which shows permisions, file size and other useful metadata. \n",
    "\n",
    "Once I was happy the permissions had changed all that was left to do was to execute the script. To do so I ran the command `./weather.sh`. I knew it executed correctly as a new timestamped file was added to my weather folder. The project component of this module is to utilise the weather.sh script created in this task as a workflow which runs daily. "
   ]
  },
  {
   "cell_type": "markdown",
   "metadata": {},
   "source": [
    "***\n",
    "\n",
    "## Task 9: Pandas"
   ]
  },
  {
   "cell_type": "markdown",
   "metadata": {},
   "source": [
    "In this final task I will be analysing the data in one of the Athenry weather JSON files using the pandas module. I will begin by importing my libraries: pandas and matplotlib.\n",
    "\n",
    "Pandas is used for the DataFrame data structure (a two dimensional data structure with rows and columns, like a spreadsheet). It allows us to investigate JSON files, amongst other features.\n",
    "\n",
    "Matplotlib is a plotting library. Pyplot allows for interactive plots and programmatic plot generation."
   ]
  },
  {
   "cell_type": "code",
   "execution_count": 34,
   "metadata": {},
   "outputs": [],
   "source": [
    "#Data Frames\n",
    "import pandas as pd\n",
    "\n",
    "#Plotting\n",
    "import matplotlib.pyplot as plt"
   ]
  },
  {
   "cell_type": "markdown",
   "metadata": {},
   "source": [
    "Now let's read in one of the weather files using pandas and print the first few rows of data:"
   ]
  },
  {
   "cell_type": "code",
   "execution_count": 35,
   "metadata": {},
   "outputs": [
    {
     "data": {
      "text/html": [
       "<div>\n",
       "<style scoped>\n",
       "    .dataframe tbody tr th:only-of-type {\n",
       "        vertical-align: middle;\n",
       "    }\n",
       "\n",
       "    .dataframe tbody tr th {\n",
       "        vertical-align: top;\n",
       "    }\n",
       "\n",
       "    .dataframe thead th {\n",
       "        text-align: right;\n",
       "    }\n",
       "</style>\n",
       "<table border=\"1\" class=\"dataframe\">\n",
       "  <thead>\n",
       "    <tr style=\"text-align: right;\">\n",
       "      <th></th>\n",
       "      <th>name</th>\n",
       "      <th>temperature</th>\n",
       "      <th>symbol</th>\n",
       "      <th>weatherDescription</th>\n",
       "      <th>text</th>\n",
       "      <th>windSpeed</th>\n",
       "      <th>windGust</th>\n",
       "      <th>cardinalWindDirection</th>\n",
       "      <th>windDirection</th>\n",
       "      <th>humidity</th>\n",
       "      <th>rainfall</th>\n",
       "      <th>pressure</th>\n",
       "      <th>dayName</th>\n",
       "      <th>date</th>\n",
       "      <th>reportTime</th>\n",
       "    </tr>\n",
       "  </thead>\n",
       "  <tbody>\n",
       "    <tr>\n",
       "      <th>0</th>\n",
       "      <td>Athenry</td>\n",
       "      <td>10</td>\n",
       "      <td>04n</td>\n",
       "      <td>Cloudy</td>\n",
       "      <td>\"Cloudy\"</td>\n",
       "      <td>15</td>\n",
       "      <td>-</td>\n",
       "      <td>SW</td>\n",
       "      <td>225</td>\n",
       "      <td>83</td>\n",
       "      <td>0.0</td>\n",
       "      <td>1028</td>\n",
       "      <td>Monday</td>\n",
       "      <td>2024-12-16</td>\n",
       "      <td>00:00</td>\n",
       "    </tr>\n",
       "    <tr>\n",
       "      <th>1</th>\n",
       "      <td>Athenry</td>\n",
       "      <td>10</td>\n",
       "      <td>04n</td>\n",
       "      <td>Cloudy</td>\n",
       "      <td>\"Cloudy\"</td>\n",
       "      <td>15</td>\n",
       "      <td>-</td>\n",
       "      <td>SW</td>\n",
       "      <td>225</td>\n",
       "      <td>81</td>\n",
       "      <td>0.0</td>\n",
       "      <td>1028</td>\n",
       "      <td>Monday</td>\n",
       "      <td>2024-12-16</td>\n",
       "      <td>01:00</td>\n",
       "    </tr>\n",
       "    <tr>\n",
       "      <th>2</th>\n",
       "      <td>Athenry</td>\n",
       "      <td>11</td>\n",
       "      <td>04n</td>\n",
       "      <td>Cloudy</td>\n",
       "      <td>\"Cloudy\"</td>\n",
       "      <td>19</td>\n",
       "      <td>-</td>\n",
       "      <td>SW</td>\n",
       "      <td>225</td>\n",
       "      <td>81</td>\n",
       "      <td>0.0</td>\n",
       "      <td>1028</td>\n",
       "      <td>Monday</td>\n",
       "      <td>2024-12-16</td>\n",
       "      <td>02:00</td>\n",
       "    </tr>\n",
       "    <tr>\n",
       "      <th>3</th>\n",
       "      <td>Athenry</td>\n",
       "      <td>11</td>\n",
       "      <td>04n</td>\n",
       "      <td>Cloudy</td>\n",
       "      <td>\"Cloudy\"</td>\n",
       "      <td>20</td>\n",
       "      <td>-</td>\n",
       "      <td>W</td>\n",
       "      <td>270</td>\n",
       "      <td>80</td>\n",
       "      <td>0.0</td>\n",
       "      <td>1027</td>\n",
       "      <td>Monday</td>\n",
       "      <td>2024-12-16</td>\n",
       "      <td>03:00</td>\n",
       "    </tr>\n",
       "    <tr>\n",
       "      <th>4</th>\n",
       "      <td>Athenry</td>\n",
       "      <td>10</td>\n",
       "      <td>04n</td>\n",
       "      <td>Cloudy</td>\n",
       "      <td>\"Cloudy\"</td>\n",
       "      <td>15</td>\n",
       "      <td>39</td>\n",
       "      <td>SW</td>\n",
       "      <td>225</td>\n",
       "      <td>90</td>\n",
       "      <td>0.0</td>\n",
       "      <td>1027</td>\n",
       "      <td>Monday</td>\n",
       "      <td>2024-12-16</td>\n",
       "      <td>04:00</td>\n",
       "    </tr>\n",
       "  </tbody>\n",
       "</table>\n",
       "</div>"
      ],
      "text/plain": [
       "      name  temperature symbol weatherDescription      text  windSpeed  \\\n",
       "0  Athenry           10    04n             Cloudy  \"Cloudy\"         15   \n",
       "1  Athenry           10    04n             Cloudy  \"Cloudy\"         15   \n",
       "2  Athenry           11    04n             Cloudy  \"Cloudy\"         19   \n",
       "3  Athenry           11    04n             Cloudy  \"Cloudy\"         20   \n",
       "4  Athenry           10    04n             Cloudy  \"Cloudy\"         15   \n",
       "\n",
       "  windGust cardinalWindDirection  windDirection  humidity  rainfall  pressure  \\\n",
       "0        -                    SW            225        83       0.0      1028   \n",
       "1        -                    SW            225        81       0.0      1028   \n",
       "2        -                    SW            225        81       0.0      1028   \n",
       "3        -                     W            270        80       0.0      1027   \n",
       "4       39                    SW            225        90       0.0      1027   \n",
       "\n",
       "  dayName       date reportTime  \n",
       "0  Monday 2024-12-16      00:00  \n",
       "1  Monday 2024-12-16      01:00  \n",
       "2  Monday 2024-12-16      02:00  \n",
       "3  Monday 2024-12-16      03:00  \n",
       "4  Monday 2024-12-16      04:00  "
      ]
     },
     "execution_count": 35,
     "metadata": {},
     "output_type": "execute_result"
    }
   ],
   "source": [
    "df1216 = pd.read_json('data/weather/20241216_142943.json')\n",
    "\n",
    "df1216.head()"
   ]
  },
  {
   "cell_type": "markdown",
   "metadata": {},
   "source": [
    "Our weather data contains a range of variables outlining the weather conditions in Athenry on the day our script pulled from Met Eireanns API.\n",
    "\n",
    "Let's take a look at some summary statistics for the numerical data included in the dataset:"
   ]
  },
  {
   "cell_type": "code",
   "execution_count": 36,
   "metadata": {},
   "outputs": [
    {
     "name": "stdout",
     "output_type": "stream",
     "text": [
      "       temperature  windSpeed   humidity     pressure\n",
      "count    15.000000  15.000000  15.000000    15.000000\n",
      "mean     10.800000  19.133333  85.000000  1026.866667\n",
      "std       0.414039   3.419830   3.047247     0.743223\n",
      "min      10.000000  13.000000  80.000000  1026.000000\n",
      "25%      11.000000  17.000000  82.500000  1026.000000\n",
      "50%      11.000000  20.000000  85.000000  1027.000000\n",
      "75%      11.000000  21.000000  87.000000  1027.000000\n",
      "max      11.000000  26.000000  90.000000  1028.000000\n"
     ]
    }
   ],
   "source": [
    "# Summary statistics\n",
    "print(df1216[['temperature', 'windSpeed', 'humidity', 'pressure']].describe())"
   ]
  },
  {
   "cell_type": "markdown",
   "metadata": {},
   "source": [
    "Upon inspection of the above table it lead me to believe this dataset was not representative of the entire day.\n",
    "\n",
    "diurnal temperature range\n",
    "\n",
    "Windspeed and humidity have some more fluctuation but I think by including some different days we could produce some more interesting results. Let's combine the JSON files for three consective days."
   ]
  },
  {
   "cell_type": "code",
   "execution_count": 40,
   "metadata": {},
   "outputs": [
    {
     "name": "stdout",
     "output_type": "stream",
     "text": [
      "['00:00', '01:00', '02:00', '03:00', '04:00', '05:00', '06:00', '07:00', '08:00', '09:00', '10:00', '11:00', '12:00', '13:00', '14:00']\n",
      "['00:00', '01:00', '02:00', '03:00', '04:00', '05:00', '06:00', '07:00', '08:00', '09:00', '10:00', '11:00', '12:00', '13:00', '14:00']\n",
      "['00:00', '01:00', '02:00', '03:00', '04:00', '05:00', '06:00', '07:00', '08:00', '09:00', '10:00', '11:00']\n"
     ]
    }
   ],
   "source": [
    "# Loading in the next two days as seperate dataframes\n",
    "df1217 = pd.read_json('data/weather/20241217_151313.json')\n",
    "df1218 = pd.read_json('data/weather/20241218_111805.json')\n",
    "\n",
    "# Printing the report times available in each dataset\n",
    "print(df1216['reportTime'].tolist())\n",
    "print(df1217['reportTime'].tolist())\n",
    "print(df1218['reportTime'].tolist())"
   ]
  },
  {
   "cell_type": "markdown",
   "metadata": {},
   "source": [
    "Here we can see that when we pull from the API we get the data up to the latest hour. So, when I manually pulled the weather data on the 16th and 17th of December I done so between 2PM and 3PM (we timestamped our files so I can see exactly when I made the request with the API- this was at 3:13PM). Then, the automated workflow ran after 11AM. Ideally, we would set the workflow to run at 23:00 so that we get the max amount of data per day."
   ]
  },
  {
   "cell_type": "markdown",
   "metadata": {},
   "source": [
    "We can now plot some of the variables in the dataset.\n",
    "\n",
    "Let's start off by plotting "
   ]
  },
  {
   "cell_type": "code",
   "execution_count": null,
   "metadata": {},
   "outputs": [],
   "source": []
  },
  {
   "cell_type": "markdown",
   "metadata": {},
   "source": [
    "Next let's create a pie chart of the wind direction for this day:"
   ]
  },
  {
   "cell_type": "markdown",
   "metadata": {},
   "source": [
    "Lastly, let's see if there is any relationship between "
   ]
  },
  {
   "cell_type": "code",
   "execution_count": null,
   "metadata": {},
   "outputs": [],
   "source": []
  },
  {
   "cell_type": "markdown",
   "metadata": {},
   "source": [
    "This concludes the task component of the computer infrastructure module.\n",
    "\n",
    "Along with the tasks I also completed the project; creating a workflow to automate the running of the weather.sh script to run daily."
   ]
  },
  {
   "cell_type": "markdown",
   "metadata": {},
   "source": [
    "***\n",
    "\n",
    "## References\n",
    "\n",
    "| Author                                 | Title                                                                                                         | Blurb                           |\n",
    "| :---                                   |    :----:                                                                                                     |          :---:                  |\n",
    "| Data.Gov.ie | [ Today's Weather Athenry ](https://data.gov.ie/dataset/todays-weather-athenry) | Data.Gov.ie's info on the Athenry Weather observations. |\n",
    "| Driscoll, Mike. Real Python         | [*Jupyter Notebook: An Introduction*](https://realpython.com/jupyter-notebook-introduction/)                  | A quick introduction to Jupyter Notebooks; how to create and manage them.     |\n",
    "| GitHub Docs | [*Basic writing and formatting syntax: Create sophisticated formatting for your prose and code on GitHub with simple syntax*](https://docs.github.com/en/get-started/writing-on-github/getting-started-with-writing-and-formatting-on-github/basic-writing-and-formatting-syntax) | Guide for the basics of markdown; stylising text, making lists, adding images, etc. |\n",
    "| GitHub Docs | [*GitHub Codespaces Overview*](https://docs.github.com/en/codespaces/overview) | GitHub's guide for Codespaces. |\n",
    "| Met Eireann | [*Diurnal Temperature Range (DTR) ](https://www.met.ie/cms/assets/uploads/2022/09/DTR.pdf) | I reference this term when I look into why one of my datasets has a 1 degree temperature range for the day (it doesn't really- the dataset is just incomplete) |\n",
    "| Pandas Documentation | [*10 Minutes to Pandas Guide*](https://pandas.pydata.org/docs/user_guide/10min.html) | How to create arrays with Panda's, like most of the articles referenced here- this one includes info for both beginners and those with a little more experience. Pick and choose what you need from it. |\n",
    "| Solomon, Brad. Real Python | [*Python Plotting with Matplotlib (Guide)*](https://realpython.com/python-matplotlib-guide/) | Lots of useful information on plotting. |\n",
    "|  Wikimedia Commons | [Desktop Image](https://upload.wikimedia.org/wikipedia/commons/6/6b/Gem_11_Desktop.png)| This is the cover image used for this notebook (a user interface/desktop graphic).   |\n",
    "| W3 Schools | [*Matplotlib Tutorials*](https://www.w3schools.com/python/matplotlib_intro.asp) | Another useful one for plotting. |\n"
   ]
  },
  {
   "cell_type": "markdown",
   "metadata": {},
   "source": [
    "***\n",
    "\n",
    "## End\n",
    "\n",
    "***"
   ]
  }
 ],
 "metadata": {
  "kernelspec": {
   "display_name": "base",
   "language": "python",
   "name": "python3"
  },
  "language_info": {
   "codemirror_mode": {
    "name": "ipython",
    "version": 3
   },
   "file_extension": ".py",
   "mimetype": "text/x-python",
   "name": "python",
   "nbconvert_exporter": "python",
   "pygments_lexer": "ipython3",
   "version": "3.12.4"
  }
 },
 "nbformat": 4,
 "nbformat_minor": 2
}
